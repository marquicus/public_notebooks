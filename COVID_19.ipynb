{
  "nbformat": 4,
  "nbformat_minor": 0,
  "metadata": {
    "colab": {
      "name": "COVID-19",
      "provenance": [],
      "collapsed_sections": [],
      "include_colab_link": true
    },
    "kernelspec": {
      "name": "python3",
      "display_name": "Python 3"
    }
  },
  "cells": [
    {
      "cell_type": "markdown",
      "metadata": {
        "id": "view-in-github",
        "colab_type": "text"
      },
      "source": [
        "<a href=\"https://colab.research.google.com/github/marquicus/public_notebooks/blob/master/COVID_19.ipynb\" target=\"_parent\"><img src=\"https://colab.research.google.com/assets/colab-badge.svg\" alt=\"Open In Colab\"/></a>"
      ]
    },
    {
      "cell_type": "markdown",
      "metadata": {
        "id": "WtsC7dXGjKyv",
        "colab_type": "text"
      },
      "source": [
        "# Covid-19 Analysis\n",
        "\n",
        "This notebook contains some analysis based on data from [Our World in Data](https://ourworldindata.org/coronavirus-source-data). If you want to run this notebook yourself, or make changes, just save it to your Google drive (**File | Save a copy in Drive...**) and then run all cells (**Runtime | Run all**). You can also edit cells and rerun them just like any other [Jupyter notebook](https://jupyter.org/).\n",
        "\n",
        "I created a companion [YouTube video](https://www.youtube.com/watch?v=273KtnPWZnw) explaining some of the details.\n",
        "\n",
        "Let me know if you have any questions or concerns.\n",
        "\n",
        "[Madhu Siddalingaiah](https://www.linkedin.com/in/msiddalingaiah/)\n",
        "\n",
        "My online courses:\n",
        "\n",
        "* [Practical Machine Learning by Example](https://www.udemy.com/course/practical-machine-learning-python/?referralCode=E66517289C35E12461C9)\n",
        "* [Practical Introduction to Machine Learning](https://www.udemy.com/course/practical-machine-learning/?referralCode=83919AF0BC008618E4EE)"
      ]
    },
    {
      "cell_type": "code",
      "metadata": {
        "id": "WaYbQQg9XeaJ",
        "colab_type": "code",
        "colab": {}
      },
      "source": [
        "import pandas as pd\n",
        "import matplotlib.pyplot as plt\n",
        "import numpy as np\n",
        "import datetime"
      ],
      "execution_count": 0,
      "outputs": []
    },
    {
      "cell_type": "markdown",
      "metadata": {
        "id": "kRBhfkbbjs3_",
        "colab_type": "text"
      },
      "source": [
        "## Load Data\n",
        "\n",
        "The data appears to be updated daily. You can re-run all cells to see how the numbers evolve."
      ]
    },
    {
      "cell_type": "code",
      "metadata": {
        "id": "kUtgjy8fXsnz",
        "colab_type": "code",
        "outputId": "3706213a-9479-4ace-878e-2b0202784c4e",
        "colab": {
          "base_uri": "https://localhost:8080/",
          "height": 389
        }
      },
      "source": [
        "total_cases = pd.read_csv('https://covid.ourworldindata.org/data/ecdc/total_cases.csv').fillna(0)\n",
        "total_deaths = pd.read_csv('https://covid.ourworldindata.org/data/ecdc/total_deaths.csv').fillna(0)\n",
        "new_cases = pd.read_csv('https://covid.ourworldindata.org/data/ecdc/new_cases.csv').fillna(0)\n",
        "new_deaths = pd.read_csv('https://covid.ourworldindata.org/data/ecdc/new_deaths.csv').fillna(0)\n",
        "\n",
        "# There's a spike on one day in China, which is probably a reporting error\n",
        "# Comment the following two lines to see it.\n",
        "spike = new_cases['China'].values.argmax()\n",
        "new_cases.iloc[spike] = new_cases.iloc[spike-1]\n",
        "\n",
        "total_deaths.tail()"
      ],
      "execution_count": 0,
      "outputs": [
        {
          "output_type": "execute_result",
          "data": {
            "text/html": [
              "<div>\n",
              "<style scoped>\n",
              "    .dataframe tbody tr th:only-of-type {\n",
              "        vertical-align: middle;\n",
              "    }\n",
              "\n",
              "    .dataframe tbody tr th {\n",
              "        vertical-align: top;\n",
              "    }\n",
              "\n",
              "    .dataframe thead th {\n",
              "        text-align: right;\n",
              "    }\n",
              "</style>\n",
              "<table border=\"1\" class=\"dataframe\">\n",
              "  <thead>\n",
              "    <tr style=\"text-align: right;\">\n",
              "      <th></th>\n",
              "      <th>date</th>\n",
              "      <th>World</th>\n",
              "      <th>Afghanistan</th>\n",
              "      <th>Albania</th>\n",
              "      <th>Algeria</th>\n",
              "      <th>Andorra</th>\n",
              "      <th>Angola</th>\n",
              "      <th>Anguilla</th>\n",
              "      <th>Antigua and Barbuda</th>\n",
              "      <th>Argentina</th>\n",
              "      <th>Armenia</th>\n",
              "      <th>Aruba</th>\n",
              "      <th>Australia</th>\n",
              "      <th>Austria</th>\n",
              "      <th>Azerbaijan</th>\n",
              "      <th>Bahamas</th>\n",
              "      <th>Bahrain</th>\n",
              "      <th>Bangladesh</th>\n",
              "      <th>Barbados</th>\n",
              "      <th>Belarus</th>\n",
              "      <th>Belgium</th>\n",
              "      <th>Belize</th>\n",
              "      <th>Benin</th>\n",
              "      <th>Bermuda</th>\n",
              "      <th>Bhutan</th>\n",
              "      <th>Bolivia</th>\n",
              "      <th>Bonaire Sint Eustatius and Saba</th>\n",
              "      <th>Bosnia and Herzegovina</th>\n",
              "      <th>Botswana</th>\n",
              "      <th>Brazil</th>\n",
              "      <th>British Virgin Islands</th>\n",
              "      <th>Brunei</th>\n",
              "      <th>Bulgaria</th>\n",
              "      <th>Burkina Faso</th>\n",
              "      <th>Burundi</th>\n",
              "      <th>Cambodia</th>\n",
              "      <th>Cameroon</th>\n",
              "      <th>Canada</th>\n",
              "      <th>Cape Verde</th>\n",
              "      <th>Cayman Islands</th>\n",
              "      <th>...</th>\n",
              "      <th>Sint Maarten (Dutch part)</th>\n",
              "      <th>Slovakia</th>\n",
              "      <th>Slovenia</th>\n",
              "      <th>Somalia</th>\n",
              "      <th>South Africa</th>\n",
              "      <th>South Korea</th>\n",
              "      <th>South Sudan</th>\n",
              "      <th>Spain</th>\n",
              "      <th>Sri Lanka</th>\n",
              "      <th>Sudan</th>\n",
              "      <th>Suriname</th>\n",
              "      <th>Swaziland</th>\n",
              "      <th>Sweden</th>\n",
              "      <th>Switzerland</th>\n",
              "      <th>Syria</th>\n",
              "      <th>Taiwan</th>\n",
              "      <th>Tajikistan</th>\n",
              "      <th>Tanzania</th>\n",
              "      <th>Thailand</th>\n",
              "      <th>Timor</th>\n",
              "      <th>Togo</th>\n",
              "      <th>Trinidad and Tobago</th>\n",
              "      <th>Tunisia</th>\n",
              "      <th>Turkey</th>\n",
              "      <th>Turks and Caicos Islands</th>\n",
              "      <th>Uganda</th>\n",
              "      <th>Ukraine</th>\n",
              "      <th>United Arab Emirates</th>\n",
              "      <th>United Kingdom</th>\n",
              "      <th>United States</th>\n",
              "      <th>United States Virgin Islands</th>\n",
              "      <th>Uruguay</th>\n",
              "      <th>Uzbekistan</th>\n",
              "      <th>Vatican</th>\n",
              "      <th>Venezuela</th>\n",
              "      <th>Vietnam</th>\n",
              "      <th>Western Sahara</th>\n",
              "      <th>Yemen</th>\n",
              "      <th>Zambia</th>\n",
              "      <th>Zimbabwe</th>\n",
              "    </tr>\n",
              "  </thead>\n",
              "  <tbody>\n",
              "    <tr>\n",
              "      <th>123</th>\n",
              "      <td>2020-05-02</td>\n",
              "      <td>238707</td>\n",
              "      <td>68.0</td>\n",
              "      <td>31.0</td>\n",
              "      <td>453.0</td>\n",
              "      <td>43.0</td>\n",
              "      <td>2.0</td>\n",
              "      <td>0.0</td>\n",
              "      <td>3.0</td>\n",
              "      <td>225.0</td>\n",
              "      <td>33.0</td>\n",
              "      <td>2.0</td>\n",
              "      <td>93</td>\n",
              "      <td>589</td>\n",
              "      <td>25.0</td>\n",
              "      <td>11.0</td>\n",
              "      <td>8.0</td>\n",
              "      <td>170.0</td>\n",
              "      <td>7.0</td>\n",
              "      <td>93.0</td>\n",
              "      <td>7703</td>\n",
              "      <td>2.0</td>\n",
              "      <td>2.0</td>\n",
              "      <td>6.0</td>\n",
              "      <td>0.0</td>\n",
              "      <td>66.0</td>\n",
              "      <td>0.0</td>\n",
              "      <td>70.0</td>\n",
              "      <td>1.0</td>\n",
              "      <td>6329</td>\n",
              "      <td>1.0</td>\n",
              "      <td>1.0</td>\n",
              "      <td>69.0</td>\n",
              "      <td>44.0</td>\n",
              "      <td>1.0</td>\n",
              "      <td>0.0</td>\n",
              "      <td>61.0</td>\n",
              "      <td>3391</td>\n",
              "      <td>2.0</td>\n",
              "      <td>1.0</td>\n",
              "      <td>...</td>\n",
              "      <td>13.0</td>\n",
              "      <td>23.0</td>\n",
              "      <td>93.0</td>\n",
              "      <td>28.0</td>\n",
              "      <td>116.0</td>\n",
              "      <td>250</td>\n",
              "      <td>0.0</td>\n",
              "      <td>25100.0</td>\n",
              "      <td>7.0</td>\n",
              "      <td>31.0</td>\n",
              "      <td>1.0</td>\n",
              "      <td>1.0</td>\n",
              "      <td>2653</td>\n",
              "      <td>1434</td>\n",
              "      <td>3.0</td>\n",
              "      <td>6.0</td>\n",
              "      <td>0.0</td>\n",
              "      <td>16.0</td>\n",
              "      <td>54.0</td>\n",
              "      <td>0.0</td>\n",
              "      <td>9.0</td>\n",
              "      <td>8.0</td>\n",
              "      <td>41.0</td>\n",
              "      <td>3258.0</td>\n",
              "      <td>1.0</td>\n",
              "      <td>0.0</td>\n",
              "      <td>279.0</td>\n",
              "      <td>111.0</td>\n",
              "      <td>27510</td>\n",
              "      <td>65068</td>\n",
              "      <td>4.0</td>\n",
              "      <td>17.0</td>\n",
              "      <td>9.0</td>\n",
              "      <td>0.0</td>\n",
              "      <td>10.0</td>\n",
              "      <td>0.0</td>\n",
              "      <td>0.0</td>\n",
              "      <td>2.0</td>\n",
              "      <td>3.0</td>\n",
              "      <td>4.0</td>\n",
              "    </tr>\n",
              "    <tr>\n",
              "      <th>124</th>\n",
              "      <td>2020-05-03</td>\n",
              "      <td>243476</td>\n",
              "      <td>72.0</td>\n",
              "      <td>31.0</td>\n",
              "      <td>459.0</td>\n",
              "      <td>44.0</td>\n",
              "      <td>2.0</td>\n",
              "      <td>0.0</td>\n",
              "      <td>3.0</td>\n",
              "      <td>237.0</td>\n",
              "      <td>33.0</td>\n",
              "      <td>2.0</td>\n",
              "      <td>93</td>\n",
              "      <td>596</td>\n",
              "      <td>25.0</td>\n",
              "      <td>11.0</td>\n",
              "      <td>8.0</td>\n",
              "      <td>175.0</td>\n",
              "      <td>7.0</td>\n",
              "      <td>97.0</td>\n",
              "      <td>7765</td>\n",
              "      <td>2.0</td>\n",
              "      <td>2.0</td>\n",
              "      <td>7.0</td>\n",
              "      <td>0.0</td>\n",
              "      <td>71.0</td>\n",
              "      <td>0.0</td>\n",
              "      <td>72.0</td>\n",
              "      <td>1.0</td>\n",
              "      <td>6750</td>\n",
              "      <td>1.0</td>\n",
              "      <td>1.0</td>\n",
              "      <td>72.0</td>\n",
              "      <td>44.0</td>\n",
              "      <td>1.0</td>\n",
              "      <td>0.0</td>\n",
              "      <td>64.0</td>\n",
              "      <td>3566</td>\n",
              "      <td>2.0</td>\n",
              "      <td>1.0</td>\n",
              "      <td>...</td>\n",
              "      <td>13.0</td>\n",
              "      <td>24.0</td>\n",
              "      <td>94.0</td>\n",
              "      <td>31.0</td>\n",
              "      <td>123.0</td>\n",
              "      <td>250</td>\n",
              "      <td>0.0</td>\n",
              "      <td>25264.0</td>\n",
              "      <td>7.0</td>\n",
              "      <td>41.0</td>\n",
              "      <td>1.0</td>\n",
              "      <td>1.0</td>\n",
              "      <td>2669</td>\n",
              "      <td>1466</td>\n",
              "      <td>3.0</td>\n",
              "      <td>6.0</td>\n",
              "      <td>0.0</td>\n",
              "      <td>16.0</td>\n",
              "      <td>54.0</td>\n",
              "      <td>0.0</td>\n",
              "      <td>9.0</td>\n",
              "      <td>8.0</td>\n",
              "      <td>42.0</td>\n",
              "      <td>3336.0</td>\n",
              "      <td>1.0</td>\n",
              "      <td>0.0</td>\n",
              "      <td>279.0</td>\n",
              "      <td>119.0</td>\n",
              "      <td>28131</td>\n",
              "      <td>66385</td>\n",
              "      <td>4.0</td>\n",
              "      <td>17.0</td>\n",
              "      <td>9.0</td>\n",
              "      <td>0.0</td>\n",
              "      <td>10.0</td>\n",
              "      <td>0.0</td>\n",
              "      <td>0.0</td>\n",
              "      <td>2.0</td>\n",
              "      <td>3.0</td>\n",
              "      <td>4.0</td>\n",
              "    </tr>\n",
              "    <tr>\n",
              "      <th>125</th>\n",
              "      <td>2020-05-04</td>\n",
              "      <td>246999</td>\n",
              "      <td>85.0</td>\n",
              "      <td>31.0</td>\n",
              "      <td>463.0</td>\n",
              "      <td>45.0</td>\n",
              "      <td>2.0</td>\n",
              "      <td>0.0</td>\n",
              "      <td>3.0</td>\n",
              "      <td>246.0</td>\n",
              "      <td>35.0</td>\n",
              "      <td>2.0</td>\n",
              "      <td>95</td>\n",
              "      <td>598</td>\n",
              "      <td>25.0</td>\n",
              "      <td>11.0</td>\n",
              "      <td>8.0</td>\n",
              "      <td>177.0</td>\n",
              "      <td>7.0</td>\n",
              "      <td>99.0</td>\n",
              "      <td>7844</td>\n",
              "      <td>2.0</td>\n",
              "      <td>2.0</td>\n",
              "      <td>7.0</td>\n",
              "      <td>0.0</td>\n",
              "      <td>76.0</td>\n",
              "      <td>0.0</td>\n",
              "      <td>77.0</td>\n",
              "      <td>1.0</td>\n",
              "      <td>7025</td>\n",
              "      <td>1.0</td>\n",
              "      <td>1.0</td>\n",
              "      <td>73.0</td>\n",
              "      <td>45.0</td>\n",
              "      <td>1.0</td>\n",
              "      <td>0.0</td>\n",
              "      <td>64.0</td>\n",
              "      <td>3682</td>\n",
              "      <td>2.0</td>\n",
              "      <td>1.0</td>\n",
              "      <td>...</td>\n",
              "      <td>13.0</td>\n",
              "      <td>24.0</td>\n",
              "      <td>96.0</td>\n",
              "      <td>32.0</td>\n",
              "      <td>131.0</td>\n",
              "      <td>252</td>\n",
              "      <td>0.0</td>\n",
              "      <td>0.0</td>\n",
              "      <td>7.0</td>\n",
              "      <td>41.0</td>\n",
              "      <td>1.0</td>\n",
              "      <td>1.0</td>\n",
              "      <td>2679</td>\n",
              "      <td>1472</td>\n",
              "      <td>3.0</td>\n",
              "      <td>6.0</td>\n",
              "      <td>2.0</td>\n",
              "      <td>16.0</td>\n",
              "      <td>54.0</td>\n",
              "      <td>0.0</td>\n",
              "      <td>9.0</td>\n",
              "      <td>8.0</td>\n",
              "      <td>42.0</td>\n",
              "      <td>3397.0</td>\n",
              "      <td>1.0</td>\n",
              "      <td>0.0</td>\n",
              "      <td>288.0</td>\n",
              "      <td>126.0</td>\n",
              "      <td>28446</td>\n",
              "      <td>67682</td>\n",
              "      <td>4.0</td>\n",
              "      <td>17.0</td>\n",
              "      <td>10.0</td>\n",
              "      <td>0.0</td>\n",
              "      <td>10.0</td>\n",
              "      <td>0.0</td>\n",
              "      <td>0.0</td>\n",
              "      <td>2.0</td>\n",
              "      <td>3.0</td>\n",
              "      <td>4.0</td>\n",
              "    </tr>\n",
              "    <tr>\n",
              "      <th>126</th>\n",
              "      <td>2020-05-05</td>\n",
              "      <td>250977</td>\n",
              "      <td>90.0</td>\n",
              "      <td>31.0</td>\n",
              "      <td>465.0</td>\n",
              "      <td>45.0</td>\n",
              "      <td>2.0</td>\n",
              "      <td>0.0</td>\n",
              "      <td>3.0</td>\n",
              "      <td>260.0</td>\n",
              "      <td>39.0</td>\n",
              "      <td>2.0</td>\n",
              "      <td>95</td>\n",
              "      <td>600</td>\n",
              "      <td>26.0</td>\n",
              "      <td>11.0</td>\n",
              "      <td>8.0</td>\n",
              "      <td>182.0</td>\n",
              "      <td>7.0</td>\n",
              "      <td>103.0</td>\n",
              "      <td>7924</td>\n",
              "      <td>2.0</td>\n",
              "      <td>2.0</td>\n",
              "      <td>7.0</td>\n",
              "      <td>0.0</td>\n",
              "      <td>82.0</td>\n",
              "      <td>0.0</td>\n",
              "      <td>78.0</td>\n",
              "      <td>1.0</td>\n",
              "      <td>7321</td>\n",
              "      <td>1.0</td>\n",
              "      <td>1.0</td>\n",
              "      <td>78.0</td>\n",
              "      <td>46.0</td>\n",
              "      <td>1.0</td>\n",
              "      <td>0.0</td>\n",
              "      <td>64.0</td>\n",
              "      <td>3854</td>\n",
              "      <td>2.0</td>\n",
              "      <td>1.0</td>\n",
              "      <td>...</td>\n",
              "      <td>13.0</td>\n",
              "      <td>25.0</td>\n",
              "      <td>97.0</td>\n",
              "      <td>35.0</td>\n",
              "      <td>138.0</td>\n",
              "      <td>254</td>\n",
              "      <td>0.0</td>\n",
              "      <td>25428.0</td>\n",
              "      <td>8.0</td>\n",
              "      <td>41.0</td>\n",
              "      <td>1.0</td>\n",
              "      <td>1.0</td>\n",
              "      <td>2769</td>\n",
              "      <td>1476</td>\n",
              "      <td>3.0</td>\n",
              "      <td>6.0</td>\n",
              "      <td>3.0</td>\n",
              "      <td>18.0</td>\n",
              "      <td>54.0</td>\n",
              "      <td>0.0</td>\n",
              "      <td>9.0</td>\n",
              "      <td>8.0</td>\n",
              "      <td>43.0</td>\n",
              "      <td>3461.0</td>\n",
              "      <td>1.0</td>\n",
              "      <td>0.0</td>\n",
              "      <td>303.0</td>\n",
              "      <td>137.0</td>\n",
              "      <td>28734</td>\n",
              "      <td>68934</td>\n",
              "      <td>4.0</td>\n",
              "      <td>17.0</td>\n",
              "      <td>10.0</td>\n",
              "      <td>0.0</td>\n",
              "      <td>10.0</td>\n",
              "      <td>0.0</td>\n",
              "      <td>0.0</td>\n",
              "      <td>2.0</td>\n",
              "      <td>3.0</td>\n",
              "      <td>4.0</td>\n",
              "    </tr>\n",
              "    <tr>\n",
              "      <th>127</th>\n",
              "      <td>2020-05-06</td>\n",
              "      <td>256880</td>\n",
              "      <td>95.0</td>\n",
              "      <td>31.0</td>\n",
              "      <td>470.0</td>\n",
              "      <td>46.0</td>\n",
              "      <td>2.0</td>\n",
              "      <td>0.0</td>\n",
              "      <td>3.0</td>\n",
              "      <td>264.0</td>\n",
              "      <td>40.0</td>\n",
              "      <td>2.0</td>\n",
              "      <td>96</td>\n",
              "      <td>606</td>\n",
              "      <td>26.0</td>\n",
              "      <td>11.0</td>\n",
              "      <td>8.0</td>\n",
              "      <td>183.0</td>\n",
              "      <td>7.0</td>\n",
              "      <td>107.0</td>\n",
              "      <td>8016</td>\n",
              "      <td>2.0</td>\n",
              "      <td>2.0</td>\n",
              "      <td>7.0</td>\n",
              "      <td>0.0</td>\n",
              "      <td>86.0</td>\n",
              "      <td>0.0</td>\n",
              "      <td>79.0</td>\n",
              "      <td>1.0</td>\n",
              "      <td>7921</td>\n",
              "      <td>1.0</td>\n",
              "      <td>1.0</td>\n",
              "      <td>78.0</td>\n",
              "      <td>48.0</td>\n",
              "      <td>1.0</td>\n",
              "      <td>0.0</td>\n",
              "      <td>64.0</td>\n",
              "      <td>4043</td>\n",
              "      <td>2.0</td>\n",
              "      <td>1.0</td>\n",
              "      <td>...</td>\n",
              "      <td>14.0</td>\n",
              "      <td>25.0</td>\n",
              "      <td>98.0</td>\n",
              "      <td>38.0</td>\n",
              "      <td>148.0</td>\n",
              "      <td>255</td>\n",
              "      <td>0.0</td>\n",
              "      <td>25613.0</td>\n",
              "      <td>9.0</td>\n",
              "      <td>45.0</td>\n",
              "      <td>1.0</td>\n",
              "      <td>1.0</td>\n",
              "      <td>2854</td>\n",
              "      <td>1482</td>\n",
              "      <td>3.0</td>\n",
              "      <td>6.0</td>\n",
              "      <td>5.0</td>\n",
              "      <td>18.0</td>\n",
              "      <td>54.0</td>\n",
              "      <td>0.0</td>\n",
              "      <td>9.0</td>\n",
              "      <td>8.0</td>\n",
              "      <td>43.0</td>\n",
              "      <td>3520.0</td>\n",
              "      <td>1.0</td>\n",
              "      <td>0.0</td>\n",
              "      <td>316.0</td>\n",
              "      <td>146.0</td>\n",
              "      <td>29427</td>\n",
              "      <td>71078</td>\n",
              "      <td>4.0</td>\n",
              "      <td>17.0</td>\n",
              "      <td>10.0</td>\n",
              "      <td>0.0</td>\n",
              "      <td>10.0</td>\n",
              "      <td>0.0</td>\n",
              "      <td>0.0</td>\n",
              "      <td>3.0</td>\n",
              "      <td>4.0</td>\n",
              "      <td>4.0</td>\n",
              "    </tr>\n",
              "  </tbody>\n",
              "</table>\n",
              "<p>5 rows × 211 columns</p>\n",
              "</div>"
            ],
            "text/plain": [
              "           date   World  Afghanistan  ...  Yemen  Zambia  Zimbabwe\n",
              "123  2020-05-02  238707         68.0  ...    2.0     3.0       4.0\n",
              "124  2020-05-03  243476         72.0  ...    2.0     3.0       4.0\n",
              "125  2020-05-04  246999         85.0  ...    2.0     3.0       4.0\n",
              "126  2020-05-05  250977         90.0  ...    2.0     3.0       4.0\n",
              "127  2020-05-06  256880         95.0  ...    3.0     4.0       4.0\n",
              "\n",
              "[5 rows x 211 columns]"
            ]
          },
          "metadata": {
            "tags": []
          },
          "execution_count": 2
        }
      ]
    },
    {
      "cell_type": "markdown",
      "metadata": {
        "id": "Yh9WvOA8j1VR",
        "colab_type": "text"
      },
      "source": [
        "## Hardest Hit Region"
      ]
    },
    {
      "cell_type": "code",
      "metadata": {
        "id": "f4tDcX5TgxDn",
        "colab_type": "code",
        "outputId": "e8cf287e-3b05-4631-e62b-253b1474282e",
        "colab": {
          "base_uri": "https://localhost:8080/",
          "height": 35
        }
      },
      "source": [
        "max_death_index = new_deaths.iloc[-1].values[2:].argmax()+2\n",
        "region = new_deaths.columns[max_death_index]\n",
        "deaths = new_deaths[region].values[-1]\n",
        "date = new_deaths.date.values[-1]\n",
        "if region[-1] == 's':\n",
        "  region = 'The ' + region\n",
        "print('{region} has the largest number of recent deaths, totalling {deaths} on {date}'.format(region=region, deaths=deaths, date=date))"
      ],
      "execution_count": 0,
      "outputs": [
        {
          "output_type": "stream",
          "text": [
            "The United States has the largest number of recent deaths, totalling 2144 on 2020-05-06\n"
          ],
          "name": "stdout"
        }
      ]
    },
    {
      "cell_type": "markdown",
      "metadata": {
        "id": "34TZz5Txj_Mr",
        "colab_type": "text"
      },
      "source": [
        "## Regions of Interest\n",
        "\n",
        "Adjust the next cell to choose regions of interest."
      ]
    },
    {
      "cell_type": "code",
      "metadata": {
        "id": "OEw89h9Eb5_H",
        "colab_type": "code",
        "colab": {}
      },
      "source": [
        "regions = ['Germany', 'Italy', 'Spain', 'India', 'United States', 'Japan', 'Sweden']\n",
        "#regions = ['United States']"
      ],
      "execution_count": 0,
      "outputs": []
    },
    {
      "cell_type": "markdown",
      "metadata": {
        "id": "hL3gnfCzkPj-",
        "colab_type": "text"
      },
      "source": [
        "## New Cases by Date"
      ]
    },
    {
      "cell_type": "code",
      "metadata": {
        "id": "LlYiNkQqaKNl",
        "colab_type": "code",
        "outputId": "bd9901e1-27e3-4e9d-aa87-cf5b43092aa7",
        "colab": {
          "base_uri": "https://localhost:8080/",
          "height": 295
        }
      },
      "source": [
        "x = new_cases.index\n",
        "for region in regions:\n",
        "  plt.plot(x, new_cases[region].values, label=region)\n",
        "plt.ylabel('New Cases')\n",
        "plt.xlabel('Days')\n",
        "plt.legend(loc='upper left')\n",
        "plt.title('New Cases')\n",
        "plt.show()"
      ],
      "execution_count": 0,
      "outputs": [
        {
          "output_type": "display_data",
          "data": {
            "image/png": "[encoded data removed]",
            "text/plain": [
              "<Figure size 432x288 with 1 Axes>"
            ]
          },
          "metadata": {
            "tags": [],
            "needs_background": "light"
          }
        }
      ]
    },
    {
      "cell_type": "markdown",
      "metadata": {
        "id": "427HDrNKkXQD",
        "colab_type": "text"
      },
      "source": [
        "## Deaths by Date"
      ]
    },
    {
      "cell_type": "code",
      "metadata": {
        "id": "2hSfwss-a3yj",
        "colab_type": "code",
        "outputId": "5fc8f9b0-0bbf-4eef-a1cd-07fc5f36a905",
        "colab": {
          "base_uri": "https://localhost:8080/",
          "height": 295
        }
      },
      "source": [
        "x = new_deaths.index\n",
        "for region in regions:\n",
        "  plt.plot(x, new_deaths[region].values, label=region)\n",
        "plt.ylabel('New Deaths')\n",
        "plt.xlabel('Days')\n",
        "plt.legend(loc='upper left')\n",
        "plt.title('New Deaths')\n",
        "plt.show()"
      ],
      "execution_count": 0,
      "outputs": [
        {
          "output_type": "display_data",
          "data": {
            "image/png": "[encoded data removed]",
            "text/plain": [
              "<Figure size 432x288 with 1 Axes>"
            ]
          },
          "metadata": {
            "tags": [],
            "needs_background": "light"
          }
        }
      ]
    },
    {
      "cell_type": "markdown",
      "metadata": {
        "id": "JxMsszZut2uq",
        "colab_type": "text"
      },
      "source": [
        "## Doubling Period\n",
        "\n",
        "Assuming constant exponential growth, the estimate of the number days for COVID-19 to double is\n",
        "\n",
        "$$r_d = \\frac{\\Delta t}{log_2(\\frac{\\Delta n}{n_o})}$$\n",
        "\n",
        "Where:\n",
        "* $r_d$ is the doubling period in days\n",
        "* $\\Delta t$ is the average number of days\n",
        "* $\\Delta n$ is the number of new cases in $\\Delta t$ days\n",
        "* $n_o$ is the number of cases $\\Delta t$ days ago"
      ]
    },
    {
      "cell_type": "code",
      "metadata": {
        "id": "PvO27o6duyz8",
        "colab_type": "code",
        "outputId": "d4bc5cc6-615f-4969-fee5-a07796f2a591",
        "colab": {
          "base_uri": "https://localhost:8080/",
          "height": 299
        }
      },
      "source": [
        "dt = 5\n",
        "regions = ['Italy', 'United States', 'Germany', 'India', 'Japan', 'Sweden']\n",
        "r_d = {}\n",
        "r_d_list = []\n",
        "for region in regions:\n",
        "  n1 = total_cases[region].values[-1]\n",
        "  n0 = total_cases[region].values[-1-dt]\n",
        "  dn = (n1-n0)/n0\n",
        "  r = dt/(np.log2(dn+1))\n",
        "  r_d_list.append(r)\n",
        "  r_d[region] = r\n",
        "\n",
        "y_pos = np.arange(len(regions))\n",
        "\n",
        "plt.bar(y_pos, r_d_list, align='center')\n",
        "plt.xticks(y_pos, regions)\n",
        "plt.title('Doubling Period in Days')\n",
        "plt.show()\n",
        "\n",
        "fastest_index = np.array(r_d_list).argmin()\n",
        "region = regions[fastest_index]\n",
        "if region[-1] == 's':\n",
        "  region = 'the ' + region\n",
        "print('The fastest growing region is {region}, which is doubling every {rate:.1f} days'.format(region=region, rate=r_d_list[fastest_index]))"
      ],
      "execution_count": 0,
      "outputs": [
        {
          "output_type": "display_data",
          "data": {
            "image/png": "[encoded data removed]",
            "text/plain": [
              "<Figure size 432x288 with 1 Axes>"
            ]
          },
          "metadata": {
            "tags": [],
            "needs_background": "light"
          }
        },
        {
          "output_type": "stream",
          "text": [
            "The fastest growing region is India, which is doubling every 10.1 days\n"
          ],
          "name": "stdout"
        }
      ]
    },
    {
      "cell_type": "markdown",
      "metadata": {
        "id": "hmtUv3fL0dpL",
        "colab_type": "text"
      },
      "source": [
        "## Known Infection Projections\n",
        "\n",
        "Assuming constant exponential growth, the expected number of infections is:\n",
        "\n",
        "$$n = n_o \\times 2^{t/r_d}$$\n",
        "\n",
        "Where:\n",
        "* $n$ is the number of actual cases today\n",
        "* $n_o$ is the number of reported cases today\n",
        "* $t$ is the number of days\n",
        "* $r_d$ is the doubling period, in days\n",
        "\n"
      ]
    },
    {
      "cell_type": "code",
      "metadata": {
        "id": "DtjxBSTd0K-b",
        "colab_type": "code",
        "outputId": "1f7bc3ef-7427-42e8-bff7-b270a074e643",
        "colab": {
          "base_uri": "https://localhost:8080/",
          "height": 343
        }
      },
      "source": [
        "t = np.array(range(7))\n",
        "start_date = datetime.datetime.strptime(date, '%Y-%m-%d')\n",
        "date_range = [(start_date+datetime.timedelta(days=int(d))).strftime('%Y-%m-%d') for d in t]\n",
        "\n",
        "for region in regions:\n",
        "  n_o = total_cases[region].values[-1]\n",
        "  n = np.around(n_o * np.exp2(t/r_d[region]))\n",
        "  plt.plot(t, n/1000, label=region)\n",
        "plt.ylabel('Thousands of People')\n",
        "plt.xlabel('Date')\n",
        "plt.xticks(t, date_range, rotation='vertical')\n",
        "plt.legend(loc='upper left')\n",
        "plt.title('Reported Infections')\n",
        "plt.show()"
      ],
      "execution_count": 0,
      "outputs": [
        {
          "output_type": "display_data",
          "data": {
            "image/png": "[encoded data removed]",
            "text/plain": [
              "<Figure size 432x288 with 1 Axes>"
            ]
          },
          "metadata": {
            "tags": [],
            "needs_background": "light"
          }
        }
      ]
    },
    {
      "cell_type": "markdown",
      "metadata": {
        "id": "9UyumwDVh9tZ",
        "colab_type": "text"
      },
      "source": [
        "## Actual Infection Estimates Based on Reporting Lag\n",
        "\n",
        "It is known that many infections are asymptomatic for several days, but still it is still possible transmit the disease. This makes COVID-19 particularly contagious. This suggests the actual number of cases lags reported, tested cases by some number of days. The following is rough projection of real cases using assumptions of doubling rate and symptom/testing lag.\n",
        "\n",
        "This suggests the number of actual cases today is:\n",
        "\n",
        "$$n = n_o \\times 2^{(t+l)/r_d}$$\n",
        "\n",
        "Where:\n",
        "* $n$ is the number of actual cases today\n",
        "* $n_o$ is the number of reported cases today\n",
        "* $t$ is the number of days\n",
        "* $l$ is the reporting lag, in days\n",
        "* $r_d$ is the doubling period, in days"
      ]
    },
    {
      "cell_type": "code",
      "metadata": {
        "id": "shjbTJjUiynh",
        "colab_type": "code",
        "outputId": "d3427373-d39b-47f4-d56c-a5406825c264",
        "colab": {
          "base_uri": "https://localhost:8080/",
          "height": 343
        }
      },
      "source": [
        "# Estimate of the number of days until symptoms/testing are reported\n",
        "lag = 14\n",
        "\n",
        "t = np.array(range(7))\n",
        "start_date = datetime.datetime.strptime(date, '%Y-%m-%d')\n",
        "date_range = [(start_date+datetime.timedelta(days=int(d))).strftime('%Y-%m-%d') for d in t]\n",
        "\n",
        "for region in regions:\n",
        "  n_o = total_cases[region].values[-1]\n",
        "  n = np.around(n_o * np.exp2((t+lag)/r_d[region]))\n",
        "  plt.plot(t, n/1000, label=region)\n",
        "plt.ylabel('Thousands of People')\n",
        "plt.xlabel('Date')\n",
        "plt.xticks(t, date_range, rotation='vertical')\n",
        "plt.legend(loc='upper left')\n",
        "plt.title('Actual Infection Estimates')\n",
        "plt.show()"
      ],
      "execution_count": 0,
      "outputs": [
        {
          "output_type": "display_data",
          "data": {
            "image/png": "[encoded data removed]",
            "text/plain": [
              "<Figure size 432x288 with 1 Axes>"
            ]
          },
          "metadata": {
            "tags": [],
            "needs_background": "light"
          }
        }
      ]
    },
    {
      "cell_type": "markdown",
      "metadata": {
        "id": "vfGPP3EmwT-K",
        "colab_type": "text"
      },
      "source": [
        "## Actual Infection Estimates Based on Mortality\n",
        "\n",
        "Widespread testing of the general population suggests the overall mortality rate for COVID-19 is about 0.5%. This suggests that total infection estimates, including asymptomatic and non-reported cases is about 200 times the number of deaths."
      ]
    },
    {
      "cell_type": "code",
      "metadata": {
        "id": "W313_mAawFrO",
        "colab_type": "code",
        "outputId": "1d9fab47-492f-4e00-8e51-4985112f6254",
        "colab": {
          "base_uri": "https://localhost:8080/",
          "height": 295
        }
      },
      "source": [
        "mortality_rate = 0.5/100\n",
        "infection_rate = 1/mortality_rate\n",
        "\n",
        "x = total_deaths.index\n",
        "for region in regions:\n",
        "  plt.plot(x, infection_rate*total_deaths[region].values, label=region)\n",
        "plt.ylabel('Total Infections')\n",
        "plt.yscale('log')\n",
        "plt.xlabel('Days')\n",
        "plt.legend(loc='upper left')\n",
        "plt.title('Total Infections by Date')\n",
        "plt.show()"
      ],
      "execution_count": 0,
      "outputs": [
        {
          "output_type": "display_data",
          "data": {
            "image/png": "[encoded data removed]",
            "text/plain": [
              "<Figure size 432x288 with 1 Axes>"
            ]
          },
          "metadata": {
            "tags": [],
            "needs_background": "light"
          }
        }
      ]
    },
    {
      "cell_type": "markdown",
      "metadata": {
        "id": "UkSO1DCsm7b2",
        "colab_type": "text"
      },
      "source": [
        "\n",
        "## Doubling Period over Time\n",
        "\n",
        "Compute the doubling period for several regions over the last several days. Increasing numbers suggest an reduction in infection rates, which is good."
      ]
    },
    {
      "cell_type": "code",
      "metadata": {
        "id": "hGST6NJKm5lP",
        "colab_type": "code",
        "outputId": "d228d652-6ec6-437e-d06e-9c526a82852f",
        "colab": {
          "base_uri": "https://localhost:8080/",
          "height": 378
        }
      },
      "source": [
        "regions = ['Germany', 'India', 'United States', 'Japan', 'South Korea', 'Italy', 'Spain', 'Sweden']\n",
        "\n",
        "dt = 5\n",
        "allRegions = total_cases.columns[1:]\n",
        "r_d_time = {}\n",
        "for region in regions:\n",
        "  r_d_time[region] = []\n",
        "\n",
        "look_back = 28\n",
        "for region in regions:\n",
        "  for i in range(-look_back,0):\n",
        "    n1 = total_cases[region].values[i]\n",
        "    n0 = total_cases[region].values[i-dt]\n",
        "    dn = (n1-n0)/n0\n",
        "    r = dt/(np.log2(dn+1))\n",
        "    r_d_time[region].append(r)\n",
        "\n",
        "regions = ['Germany', 'India', 'United States', 'Japan', 'Italy', 'Sweden']\n",
        "\n",
        "date_range = range(-look_back,0)\n",
        "for region in regions:\n",
        "  plt.plot(date_range, r_d_time[region], label=region)  \n",
        "plt.ylabel('Doubling Period (days)')\n",
        "#plt.yscale('log')\n",
        "plt.xlabel('Date')\n",
        "plt.xticks(date_range, total_cases.date[-look_back:], rotation='vertical')\n",
        "plt.legend(loc='upper left')\n",
        "plt.title('Doubling Period over Time')\n",
        "plt.show()"
      ],
      "execution_count": 0,
      "outputs": [
        {
          "output_type": "stream",
          "text": [
            "/usr/local/lib/python3.6/dist-packages/ipykernel_launcher.py:15: RuntimeWarning: divide by zero encountered in log2\n",
            "  from ipykernel import kernelapp as app\n"
          ],
          "name": "stderr"
        },
        {
          "output_type": "display_data",
          "data": {
            "image/png": "[encoded data removed]",
            "text/plain": [
              "<Figure size 432x288 with 1 Axes>"
            ]
          },
          "metadata": {
            "tags": [],
            "needs_background": "light"
          }
        }
      ]
    },
    {
      "cell_type": "markdown",
      "metadata": {
        "id": "t8uvpLRHtLrl",
        "colab_type": "text"
      },
      "source": [
        "## Total Deaths by Region\n",
        "\n",
        "Total deaths normalized by population. Population data collected from [worldometer](https://www.worldometers.info/world-population/population-by-country/)."
      ]
    },
    {
      "cell_type": "code",
      "metadata": {
        "id": "FJP4-twOtaaT",
        "colab_type": "code",
        "outputId": "fb4e617b-b536-45aa-c1e9-154400cc0bd6",
        "colab": {
          "base_uri": "https://localhost:8080/",
          "height": 339
        }
      },
      "source": [
        "#regions = ['Germany', 'Italy', 'Spain', 'India', 'United States', 'Japan', 'South Korea']\n",
        "regions = ['Germany', 'India', 'United States', 'Japan', 'South Korea', 'Sweden']\n",
        "population = {'Germany':83783942, 'Italy':60461826, 'Spain':46754778, 'India':1380004385,\n",
        "              'United States':331002651, 'Japan':126476461, 'South Korea':51269185, 'Sweden':10099265}\n",
        "\n",
        "current_deaths = total_deaths.iloc[-1]\n",
        "values = []\n",
        "for region in regions:\n",
        "  values.append(1000000*current_deaths[region]/population[region])\n",
        "\n",
        "y_pos = np.arange(len(regions))\n",
        "\n",
        "plt.bar(y_pos, values, align='center')\n",
        "plt.xticks(y_pos, regions, rotation='vertical')\n",
        "plt.ylabel('Deaths per Million')\n",
        "plt.title('Fraction of Deaths by Region')\n",
        "plt.show()"
      ],
      "execution_count": 0,
      "outputs": [
        {
          "output_type": "display_data",
          "data": {
            "image/png": "[encoded data removed]",
            "text/plain": [
              "<Figure size 432x288 with 1 Axes>"
            ]
          },
          "metadata": {
            "tags": [],
            "needs_background": "light"
          }
        }
      ]
    },
    {
      "cell_type": "markdown",
      "metadata": {
        "id": "9jmZQ6AIyLHi",
        "colab_type": "text"
      },
      "source": [
        "## Total Infections by Region\n",
        "\n",
        "This is an estimate based on estimates of mortality rate.\n"
      ]
    },
    {
      "cell_type": "code",
      "metadata": {
        "id": "-5xQdeO5yTQR",
        "colab_type": "code",
        "outputId": "f4ec3b32-911a-475e-a215-148084a3c22b",
        "colab": {
          "base_uri": "https://localhost:8080/",
          "height": 339
        }
      },
      "source": [
        "regions = ['Germany', 'India', 'United States', 'Japan', 'South Korea', 'Italy', 'Spain', 'Sweden']\n",
        "\n",
        "current_deaths = total_deaths.iloc[-1]\n",
        "infection_percent = []\n",
        "for region in regions:\n",
        "  infection_percent.append(100*infection_rate*current_deaths[region]/population[region])\n",
        "\n",
        "y_pos = np.arange(len(regions))\n",
        "\n",
        "plt.bar(y_pos, infection_percent, align='center')\n",
        "plt.xticks(y_pos, regions, rotation='vertical')\n",
        "plt.ylabel('Percentage of Population')\n",
        "plt.title('Infection Rate by Region')\n",
        "plt.show()"
      ],
      "execution_count": 0,
      "outputs": [
        {
          "output_type": "display_data",
          "data": {
            "image/png": "[encoded data removed]",
            "text/plain": [
              "<Figure size 432x288 with 1 Axes>"
            ]
          },
          "metadata": {
            "tags": [],
            "needs_background": "light"
          }
        }
      ]
    },
    {
      "cell_type": "markdown",
      "metadata": {
        "id": "nVo8l2sM23m8",
        "colab_type": "text"
      },
      "source": [
        "## Time to Herd Immunity\n",
        "\n",
        "If we assume the upper bound of [herd immunity](https://en.wikipedia.org/wiki/Herd_immunity) for COVID-19 is about 75% of the population of region, we can estime the time given the current doubling period. This assumes the doubling period remains constant, which is highly unlikely given social distancing measures and several other factors.\n",
        "\n",
        "$$n = n_o \\times 2^{t/r_d}$$\n",
        "\n",
        "$$ t = r_d log_2(n/n_o)$$"
      ]
    },
    {
      "cell_type": "code",
      "metadata": {
        "id": "jN5olTv-4EKR",
        "colab_type": "code",
        "outputId": "512e1a2e-4f89-4f17-a35b-c72589496b09",
        "colab": {
          "base_uri": "https://localhost:8080/",
          "height": 295
        }
      },
      "source": [
        "# Percentage of population to reach herd immunity\n",
        "herd_immunity = 74\n",
        "\n",
        "t_herd = []\n",
        "i = 0\n",
        "rd_values = []\n",
        "days_per_month = 365.25/12\n",
        "for region in regions:\n",
        "  rd = r_d_time[region][-1]\n",
        "  rd_values.append(rd)\n",
        "  t_herd.append(rd*np.log2(herd_immunity/infection_percent[i])/days_per_month)\n",
        "  i += 1\n",
        "\n",
        "d = {'Region': regions, 'Doubling period (days)': rd_values, 'Infection Rate(%)': infection_percent,\n",
        "     'Time to herd immunity (months)': t_herd}\n",
        "df = pd.DataFrame(data=d)\n",
        "df.sort_values(by='Time to herd immunity (months)')"
      ],
      "execution_count": 0,
      "outputs": [
        {
          "output_type": "execute_result",
          "data": {
            "text/html": [
              "<div>\n",
              "<style scoped>\n",
              "    .dataframe tbody tr th:only-of-type {\n",
              "        vertical-align: middle;\n",
              "    }\n",
              "\n",
              "    .dataframe tbody tr th {\n",
              "        vertical-align: top;\n",
              "    }\n",
              "\n",
              "    .dataframe thead th {\n",
              "        text-align: right;\n",
              "    }\n",
              "</style>\n",
              "<table border=\"1\" class=\"dataframe\">\n",
              "  <thead>\n",
              "    <tr style=\"text-align: right;\">\n",
              "      <th></th>\n",
              "      <th>Region</th>\n",
              "      <th>Doubling period (days)</th>\n",
              "      <th>Infection Rate(%)</th>\n",
              "      <th>Time to herd immunity (months)</th>\n",
              "    </tr>\n",
              "  </thead>\n",
              "  <tbody>\n",
              "    <tr>\n",
              "      <th>1</th>\n",
              "      <td>India</td>\n",
              "      <td>10.098523</td>\n",
              "      <td>0.024551</td>\n",
              "      <td>3.834552</td>\n",
              "    </tr>\n",
              "    <tr>\n",
              "      <th>2</th>\n",
              "      <td>United States</td>\n",
              "      <td>29.234931</td>\n",
              "      <td>4.294709</td>\n",
              "      <td>3.944632</td>\n",
              "    </tr>\n",
              "    <tr>\n",
              "      <th>7</th>\n",
              "      <td>Sweden</td>\n",
              "      <td>36.121028</td>\n",
              "      <td>5.651896</td>\n",
              "      <td>4.403613</td>\n",
              "    </tr>\n",
              "    <tr>\n",
              "      <th>5</th>\n",
              "      <td>Italy</td>\n",
              "      <td>96.037743</td>\n",
              "      <td>9.697028</td>\n",
              "      <td>9.250894</td>\n",
              "    </tr>\n",
              "    <tr>\n",
              "      <th>3</th>\n",
              "      <td>Japan</td>\n",
              "      <td>47.838857</td>\n",
              "      <td>0.085866</td>\n",
              "      <td>15.326078</td>\n",
              "    </tr>\n",
              "    <tr>\n",
              "      <th>6</th>\n",
              "      <td>Spain</td>\n",
              "      <td>183.074791</td>\n",
              "      <td>10.956313</td>\n",
              "      <td>16.575300</td>\n",
              "    </tr>\n",
              "    <tr>\n",
              "      <th>0</th>\n",
              "      <td>Germany</td>\n",
              "      <td>97.164663</td>\n",
              "      <td>1.670010</td>\n",
              "      <td>17.460420</td>\n",
              "    </tr>\n",
              "    <tr>\n",
              "      <th>4</th>\n",
              "      <td>South Korea</td>\n",
              "      <td>1168.601968</td>\n",
              "      <td>0.099475</td>\n",
              "      <td>366.234623</td>\n",
              "    </tr>\n",
              "  </tbody>\n",
              "</table>\n",
              "</div>"
            ],
            "text/plain": [
              "          Region  ...  Time to herd immunity (months)\n",
              "1          India  ...                        3.834552\n",
              "2  United States  ...                        3.944632\n",
              "7         Sweden  ...                        4.403613\n",
              "5          Italy  ...                        9.250894\n",
              "3          Japan  ...                       15.326078\n",
              "6          Spain  ...                       16.575300\n",
              "0        Germany  ...                       17.460420\n",
              "4    South Korea  ...                      366.234623\n",
              "\n",
              "[8 rows x 4 columns]"
            ]
          },
          "metadata": {
            "tags": []
          },
          "execution_count": 14
        }
      ]
    }
  ]
}